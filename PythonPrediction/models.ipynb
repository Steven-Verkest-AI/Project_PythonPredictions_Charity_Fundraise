{
 "cells": [
  {
   "cell_type": "markdown",
   "metadata": {},
   "source": [
    "## _Balance within the imbalance to balance what’s imbalanced_"
   ]
  },
  {
   "cell_type": "code",
   "execution_count": 1,
   "metadata": {},
   "outputs": [],
   "source": [
    "import numpy as np\n",
    "import pandas as pd\n",
    "import sklearn\n",
    "import seaborn as sns\n",
    "import matplotlib.pyplot as plt\n",
    "from sklearn.model_selection import cross_val_score\n",
    "from sklearn import metrics\n",
    "from sklearn.metrics import precision_score, recall_score, f1_score, accuracy_score, confusion_matrix, average_precision_score, precision_recall_curve, plot_precision_recall_curve\n",
    "from sklearn.utils import class_weight\n",
    "from sklearn.linear_model import LogisticRegression\n",
    "from sklearn.neighbors import KNeighborsClassifier\n",
    "from sklearn.tree import DecisionTreeClassifier\n",
    "from sklearn import svm\n",
    "from sklearn.feature_selection import SelectKBest\n",
    "from sklearn.feature_selection import chi2\n",
    "from sklearn.preprocessing import RobustScaler"
   ]
  },
  {
   "cell_type": "code",
   "execution_count": 2,
   "metadata": {},
   "outputs": [],
   "source": [
    "ext_data_path = \"/media/seppe/DiskSpaceInvader/PythonPredictions\"\n",
    "\n",
    "X_train = pd.read_csv(\"features6169.csv\", index_col=0)\n",
    "y_train = list(pd.read_csv(\"target6169.csv\", index_col=0)['amount'])\n",
    "\n",
    "X_test = pd.read_csv(\"features7244.csv\", index_col=0)\n",
    "y_test = list(pd.read_csv(\"target7244.csv\", index_col=0)['amount'])"
   ]
  },
  {
   "cell_type": "code",
   "execution_count": 3,
   "metadata": {},
   "outputs": [],
   "source": [
    "minimum_donation_cutoff = 30.0\n",
    "# It could be nice to see how changing this cutoff translates to projected ROI.\n",
    "\n",
    "# Changing from continuous to binary Y's\n",
    "y_train = [0 if x<minimum_donation_cutoff else 1 for x in y_train]\n",
    "y_test = [0 if x<minimum_donation_cutoff else 1 for x in y_test]"
   ]
  },
  {
   "cell_type": "code",
   "execution_count": 4,
   "metadata": {
    "scrolled": true
   },
   "outputs": [
    {
     "data": {
      "text/plain": [
       "array([[ 553.50657149,   93.        ,   75.        ,   14.87416667],\n",
       "       [ 452.20865233,    0.        ,   38.        ,   20.        ],\n",
       "       [5494.24153142,   71.        ,   82.        ,   27.54692308],\n",
       "       ...,\n",
       "       [ 333.67064956,    0.        ,  152.        ,   24.79      ],\n",
       "       [2352.50012679,    0.        ,   39.        ,   40.        ],\n",
       "       [3791.00508726,    0.        ,   28.        ,   39.        ]])"
      ]
     },
     "metadata": {},
     "output_type": "display_data"
    },
    {
     "data": {
      "text/html": [
       "<div>\n",
       "<style scoped>\n",
       "    .dataframe tbody tr th:only-of-type {\n",
       "        vertical-align: middle;\n",
       "    }\n",
       "\n",
       "    .dataframe tbody tr th {\n",
       "        vertical-align: top;\n",
       "    }\n",
       "\n",
       "    .dataframe thead th {\n",
       "        text-align: right;\n",
       "    }\n",
       "</style>\n",
       "<table border=\"1\" class=\"dataframe\">\n",
       "  <thead>\n",
       "    <tr style=\"text-align: right;\">\n",
       "      <th></th>\n",
       "      <th>gender</th>\n",
       "      <th>year</th>\n",
       "      <th>Population / km²</th>\n",
       "      <th>donations</th>\n",
       "      <th>months as donor</th>\n",
       "      <th>frequency</th>\n",
       "      <th>months since gift</th>\n",
       "      <th>avg donation</th>\n",
       "      <th>donates outside campaign</th>\n",
       "      <th>donors/1000 in area</th>\n",
       "      <th>...</th>\n",
       "      <th>province_Hainaut</th>\n",
       "      <th>province_Liege</th>\n",
       "      <th>province_Limburg</th>\n",
       "      <th>province_Luxembourg</th>\n",
       "      <th>province_Namur</th>\n",
       "      <th>province_Walloon Brabant</th>\n",
       "      <th>province_West Flanders</th>\n",
       "      <th>lang_EN</th>\n",
       "      <th>lang_FR</th>\n",
       "      <th>lang_NL</th>\n",
       "    </tr>\n",
       "    <tr>\n",
       "      <th>donorID</th>\n",
       "      <th></th>\n",
       "      <th></th>\n",
       "      <th></th>\n",
       "      <th></th>\n",
       "      <th></th>\n",
       "      <th></th>\n",
       "      <th></th>\n",
       "      <th></th>\n",
       "      <th></th>\n",
       "      <th></th>\n",
       "      <th></th>\n",
       "      <th></th>\n",
       "      <th></th>\n",
       "      <th></th>\n",
       "      <th></th>\n",
       "      <th></th>\n",
       "      <th></th>\n",
       "      <th></th>\n",
       "      <th></th>\n",
       "      <th></th>\n",
       "      <th></th>\n",
       "    </tr>\n",
       "  </thead>\n",
       "  <tbody>\n",
       "    <tr>\n",
       "      <th>100001</th>\n",
       "      <td>1.0</td>\n",
       "      <td>1967.0</td>\n",
       "      <td>553.506571</td>\n",
       "      <td>12.0</td>\n",
       "      <td>93.0</td>\n",
       "      <td>0.129032</td>\n",
       "      <td>75.0</td>\n",
       "      <td>14.874167</td>\n",
       "      <td>1.0</td>\n",
       "      <td>2.575859</td>\n",
       "      <td>...</td>\n",
       "      <td>0.0</td>\n",
       "      <td>0.0</td>\n",
       "      <td>0.0</td>\n",
       "      <td>0.0</td>\n",
       "      <td>0.0</td>\n",
       "      <td>0.0</td>\n",
       "      <td>0.0</td>\n",
       "      <td>0.0</td>\n",
       "      <td>0.0</td>\n",
       "      <td>1.0</td>\n",
       "    </tr>\n",
       "    <tr>\n",
       "      <th>100002</th>\n",
       "      <td>0.0</td>\n",
       "      <td>1952.0</td>\n",
       "      <td>452.208652</td>\n",
       "      <td>1.0</td>\n",
       "      <td>0.0</td>\n",
       "      <td>0.000000</td>\n",
       "      <td>38.0</td>\n",
       "      <td>20.000000</td>\n",
       "      <td>0.0</td>\n",
       "      <td>4.750309</td>\n",
       "      <td>...</td>\n",
       "      <td>0.0</td>\n",
       "      <td>0.0</td>\n",
       "      <td>0.0</td>\n",
       "      <td>0.0</td>\n",
       "      <td>0.0</td>\n",
       "      <td>0.0</td>\n",
       "      <td>0.0</td>\n",
       "      <td>0.0</td>\n",
       "      <td>0.0</td>\n",
       "      <td>1.0</td>\n",
       "    </tr>\n",
       "    <tr>\n",
       "      <th>100004</th>\n",
       "      <td>1.0</td>\n",
       "      <td>1952.0</td>\n",
       "      <td>5494.241531</td>\n",
       "      <td>26.0</td>\n",
       "      <td>71.0</td>\n",
       "      <td>0.366197</td>\n",
       "      <td>82.0</td>\n",
       "      <td>27.546923</td>\n",
       "      <td>1.0</td>\n",
       "      <td>0.368687</td>\n",
       "      <td>...</td>\n",
       "      <td>0.0</td>\n",
       "      <td>0.0</td>\n",
       "      <td>0.0</td>\n",
       "      <td>0.0</td>\n",
       "      <td>0.0</td>\n",
       "      <td>0.0</td>\n",
       "      <td>0.0</td>\n",
       "      <td>0.0</td>\n",
       "      <td>1.0</td>\n",
       "      <td>0.0</td>\n",
       "    </tr>\n",
       "  </tbody>\n",
       "</table>\n",
       "<p>3 rows × 27 columns</p>\n",
       "</div>"
      ],
      "text/plain": [
       "         gender    year  Population / km²  donations  months as donor  \\\n",
       "donorID                                                                 \n",
       "100001      1.0  1967.0        553.506571       12.0             93.0   \n",
       "100002      0.0  1952.0        452.208652        1.0              0.0   \n",
       "100004      1.0  1952.0       5494.241531       26.0             71.0   \n",
       "\n",
       "         frequency  months since gift  avg donation  donates outside campaign  \\\n",
       "donorID                                                                         \n",
       "100001    0.129032               75.0     14.874167                       1.0   \n",
       "100002    0.000000               38.0     20.000000                       0.0   \n",
       "100004    0.366197               82.0     27.546923                       1.0   \n",
       "\n",
       "         donors/1000 in area  ...  province_Hainaut  province_Liege  \\\n",
       "donorID                       ...                                     \n",
       "100001              2.575859  ...               0.0             0.0   \n",
       "100002              4.750309  ...               0.0             0.0   \n",
       "100004              0.368687  ...               0.0             0.0   \n",
       "\n",
       "         province_Limburg  province_Luxembourg  province_Namur  \\\n",
       "donorID                                                          \n",
       "100001                0.0                  0.0             0.0   \n",
       "100002                0.0                  0.0             0.0   \n",
       "100004                0.0                  0.0             0.0   \n",
       "\n",
       "         province_Walloon Brabant  province_West Flanders  lang_EN  lang_FR  \\\n",
       "donorID                                                                       \n",
       "100001                        0.0                     0.0      0.0      0.0   \n",
       "100002                        0.0                     0.0      0.0      0.0   \n",
       "100004                        0.0                     0.0      0.0      1.0   \n",
       "\n",
       "         lang_NL  \n",
       "donorID           \n",
       "100001       1.0  \n",
       "100002       1.0  \n",
       "100004       0.0  \n",
       "\n",
       "[3 rows x 27 columns]"
      ]
     },
     "metadata": {},
     "output_type": "display_data"
    }
   ],
   "source": [
    "# Scale the columns first\n",
    "\n",
    "# Let's try selecting the 4 best columns, according to a chi-square \n",
    "X_new = SelectKBest(chi2, k=4).fit_transform(X_train, y_train)\n",
    "display(X_new)\n",
    "display(X_train.head(3))\n",
    "\n",
    "# From this we can see that the feature selection only chose following columns:\n",
    "selected_cols = ['Population / km²','months as donor','months since gift','avg donation']\n",
    "\n",
    "# So now we'll try training a model using only those columns\n",
    "droppables = []\n",
    "for c in X_train.columns:\n",
    "    if c not in selected_cols:\n",
    "        droppables.append(c)\n",
    "\n",
    "X_train.drop(columns=droppables, inplace=True)\n",
    "X_test.drop(columns=droppables, inplace=True)"
   ]
  },
  {
   "cell_type": "code",
   "execution_count": 6,
   "metadata": {},
   "outputs": [
    {
     "name": "stdout",
     "output_type": "stream",
     "text": [
      "LogisticRegression F1 Score:\n",
      " 0.0\n",
      "Balanced LogisticRegression F1 Score:\n",
      " 0.02515873966694621\n"
     ]
    }
   ],
   "source": [
    "# instantiate the model (using the default parameters)\n",
    "logreg = LogisticRegression()\n",
    "\n",
    "\n",
    "# fit the model with data\n",
    "logreg.fit(X_train, y_train)\n",
    "y_pred = logreg.predict(X_test)\n",
    "\n",
    "# calc test_score\n",
    "logreg_test_score = f1_score(y_test, y_pred)\n",
    "print(\"LogisticRegression F1 Score:\\n\", logreg_test_score)\n",
    "\n",
    "# instantiate the model (using the balanced parameter)\n",
    "bal_logreg = LogisticRegression(class_weight='balanced')\n",
    "\n",
    "# fit the model with data\n",
    "bal_logreg.fit(X_train, y_train)\n",
    "bal_y_pred = bal_logreg.predict(X_test)\n",
    "\n",
    "# calc test_score\n",
    "bal_logreg_test_score = metrics.f1_score(y_test, bal_y_pred)\n",
    "print(\"Balanced LogisticRegression F1 Score:\\n\", bal_logreg_test_score)"
   ]
  },
  {
   "cell_type": "code",
   "execution_count": 7,
   "metadata": {},
   "outputs": [],
   "source": [
    "## KNN\n",
    "\n",
    "# Import knearest neighbors Classifier model\n"
   ]
  },
  {
   "cell_type": "code",
   "execution_count": 8,
   "metadata": {},
   "outputs": [],
   "source": [
    "def knn_finder(X_train, y_train, X_test, y_test, k):\n",
    "    # Create KNN Classifier\n",
    "    knn = KNeighborsClassifier(n_neighbors=k)\n",
    "\n",
    "    # Train the model using the training sets\n",
    "    knn.fit(X_train, y_train)\n",
    "    y_pred = knn.predict(X_test)\n",
    "\n",
    "    # Model Accuracy, how often is the classifier correct?\n",
    "    knn_test_score = f1_score(y_test, y_pred)\n",
    "    # print(\"KNeighbors Accuracy:\\n\", knn_test_score)\n",
    "    return knn_test_score"
   ]
  },
  {
   "cell_type": "code",
   "execution_count": 9,
   "metadata": {},
   "outputs": [
    {
     "data": {
      "image/png": "[encoded data removed]",
      "text/plain": [
       "<Figure size 432x288 with 1 Axes>"
      ]
     },
     "metadata": {},
     "output_type": "display_data"
    }
   ],
   "source": [
    "k_range = range(1, 25, 2)\n",
    "k_scores = []\n",
    "for i in k_range:\n",
    "    acc = knn_finder(X_train, y_train, X_test, y_test, i)\n",
    "    k_scores.append(acc)\n",
    "\n",
    "sns.set_style('darkgrid')\n",
    "ax = sns.lineplot(x=k_range, y=k_scores)\n",
    "ax.set_xticks(k_range)\n",
    "ax.set_xlabel(\"Value of k\")\n",
    "ax.set_ylabel(\"Model Accuracy\")\n",
    "plt.show()\n"
   ]
  },
  {
   "cell_type": "code",
   "execution_count": 10,
   "metadata": {},
   "outputs": [
    {
     "name": "stdout",
     "output_type": "stream",
     "text": [
      "f1 score: 0.00\n"
     ]
    },
    {
     "name": "stderr",
     "output_type": "stream",
     "text": [
      "/home/seppe/anaconda3/envs/fundraising/lib/python3.8/site-packages/sklearn/svm/_base.py:976: ConvergenceWarning: Liblinear failed to converge, increase the number of iterations.\n",
      "  warnings.warn(\"Liblinear failed to converge, increase \"\n"
     ]
    },
    {
     "data": {
      "text/plain": [
       "Text(0.5, 1.0, '2-class Precision-Recall curve: F1=0.00')"
      ]
     },
     "execution_count": 10,
     "metadata": {},
     "output_type": "execute_result"
    },
    {
     "data": {
      "image/png": "[encoded data removed]",
      "text/plain": [
       "<Figure size 432x288 with 1 Axes>"
      ]
     },
     "metadata": {},
     "output_type": "display_data"
    }
   ],
   "source": [
    "\n",
    "\n",
    "# Create a simple classifier\n",
    "classifier = svm.LinearSVC(random_state=2811, max_iter=3000)\n",
    "classifier.fit(X_train, y_train)\n",
    "y_score = classifier.predict(X_test)\n",
    "\n",
    "f1 = f1_score(y_test, y_score)\n",
    "\n",
    "print('f1 score: {0:0.2f}'.format(f1))\n",
    "\n",
    "disp = plot_precision_recall_curve(classifier, X_test, y_test)\n",
    "disp.ax_.set_title('2-class Precision-Recall curve: '\n",
    "                   'F1={0:0.2f}'.format(f1))\n"
   ]
  },
  {
   "cell_type": "code",
   "execution_count": 11,
   "metadata": {
    "scrolled": false
   },
   "outputs": [
    {
     "name": "stdout",
     "output_type": "stream",
     "text": [
      "F1 score: 0.06\n"
     ]
    },
    {
     "data": {
      "image/png": "[encoded data removed]",
      "text/plain": [
       "<Figure size 360x360 with 1 Axes>"
      ]
     },
     "metadata": {},
     "output_type": "display_data"
    }
   ],
   "source": [
    "class_weights = {0:1, 1:10}\n",
    "\n",
    "clf = DecisionTreeClassifier(random_state=1,class_weight=class_weights)\n",
    "\n",
    "clf.fit(X_train, y_train)\n",
    "y_pred = clf.predict(X_test)\n",
    "\n",
    "f1 = f1_score(y_test, y_pred)\n",
    "\n",
    "print('F1 score: {0:0.2f}'.format(f1))\n",
    "\n",
    "conf_matrix = confusion_matrix(y_true=y_test, y_pred=y_pred)\n",
    "#\n",
    "# Print the confusion matrix using Matplotlib\n",
    "#\n",
    "fig, ax = plt.subplots(figsize=(5, 5))\n",
    "ax.matshow(conf_matrix, cmap=plt.cm.Oranges, alpha=0.3)\n",
    "for i in range(conf_matrix.shape[0]):\n",
    "    for j in range(conf_matrix.shape[1]):\n",
    "        ax.text(x=j, y=i,s=conf_matrix[i, j], va='center', ha='center', size='xx-large')\n",
    "plt.xlabel('Predictions', fontsize=18)\n",
    "plt.ylabel('Actuals', fontsize=18)\n",
    "plt.title('Confusion Matrix', fontsize=18)\n",
    "plt.show()"
   ]
  },
  {
   "cell_type": "code",
   "execution_count": null,
   "metadata": {},
   "outputs": [],
   "source": []
  }
 ],
 "metadata": {
  "kernelspec": {
   "display_name": "Python 3",
   "language": "python",
   "name": "python3"
  },
  "language_info": {
   "codemirror_mode": {
    "name": "ipython",
    "version": 3
   },
   "file_extension": ".py",
   "mimetype": "text/x-python",
   "name": "python",
   "nbconvert_exporter": "python",
   "pygments_lexer": "ipython3",
   "version": "3.8.5"
  }
 },
 "nbformat": 4,
 "nbformat_minor": 4
}
