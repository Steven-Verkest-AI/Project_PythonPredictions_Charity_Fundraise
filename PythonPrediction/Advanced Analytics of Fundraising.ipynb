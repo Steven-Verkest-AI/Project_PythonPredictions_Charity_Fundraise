{
 "cells": [
  {
   "cell_type": "markdown",
   "metadata": {},
   "source": [
    "# Advanced Analytics of Fundraising\n",
    "\n",
    "Predicting fundraising efficiency by Direct Mail\n",
    "\n",
    "By Steven, Wim and Seppe"
   ]
  },
  {
   "cell_type": "code",
   "execution_count": 1,
   "metadata": {
    "ExecuteTime": {
     "end_time": "2020-09-09T10:37:22.309921Z",
     "start_time": "2020-09-09T10:37:22.113165Z"
    }
   },
   "outputs": [],
   "source": [
    "### IMPORTS\n",
    "import pandas as pd\n",
    "import numpy as np\n",
    "import seaborn as sns\n",
    "import matplotlib.pyplot as plt\n",
    "from datetime import datetime"
   ]
  },
  {
   "cell_type": "code",
   "execution_count": 2,
   "metadata": {
    "ExecuteTime": {
     "end_time": "2020-09-09T10:37:22.524213Z",
     "start_time": "2020-09-09T10:37:22.311362Z"
    }
   },
   "outputs": [],
   "source": [
    "### LOADING THE DATA\n",
    "\n",
    "ext_data_path = \"/media/seppe/DiskSpaceInvader/PythonPredictions\"\n",
    "\n",
    "# Test and Train dataset\n",
    "campaign6169 = pd.read_csv(ext_data_path+\"/selection campaign 6169.csv\")\n",
    "campaign7244 = pd.read_csv(ext_data_path+\"/selection campaign 7244.csv\")\n",
    "campaign7662 = pd.read_csv(ext_data_path+\"/selection campaign 7662 (without gifts).csv\")\n",
    "# General necessary datasets\n",
    "campaigns = pd.read_csv(ext_data_path+\"/campaigns.csv\", sep=';')\n",
    "donors = pd.read_csv(ext_data_path+\"/donors.csv\", index_col=0)\n",
    "gifts = pd.read_csv(ext_data_path+\"/gifts.csv\", index_col=0)\n",
    "# Additional datasets for new features, courtesy of the governement\n",
    "pop_den = pd.read_excel(\"Pop_density_en.xlsx\", header=1)\n",
    "be_codes = pd.read_csv(\"20170224_mapping_municipalities.csv\")"
   ]
  },
  {
   "cell_type": "code",
   "execution_count": 3,
   "metadata": {
    "ExecuteTime": {
     "end_time": "2020-09-09T10:37:22.830592Z",
     "start_time": "2020-09-09T10:37:22.660057Z"
    }
   },
   "outputs": [],
   "source": [
    "### CLEANING THE DATA\n",
    "\n",
    "# - Gifts cleaning\n",
    "\n",
    "gifts['amount'] = pd.Series([str(x).replace(',', '.') for x in gifts['amount']]).astype(float)\n",
    "# The campaignID 0 is not an actual campaign, but a way of grouping the people who donated outside of a campaign\n",
    "# Whether this will prove a good idea remains to be seen.\n",
    "# UPDATE: \"meh, could be worse\"\n",
    "gifts['campaignID'].replace(to_replace={np.NaN:0}, inplace=True)\n",
    "gifts['campaignID'] = gifts['campaignID'].astype(int)\n",
    "gifts['date'] = pd.to_datetime(gifts['date'],yearfirst=True)\n",
    "\n",
    "# - Donor Cleaning\n",
    "\n",
    "# add a year column to the donor df, to find the age of the donor\n",
    "donors['dateOfBirth'] = pd.to_datetime(donors[\"dateOfBirth\"],yearfirst=True)\n",
    "donors['year'] = pd.DatetimeIndex(donors['dateOfBirth']).year\n",
    "# remember when I said I'd find the age of the donor; yeah scrap that, I'm leaving it at this\n",
    "\n",
    "# drop NaN values. Not sure if I should be doing this; but too lazy to fix it now\n",
    "donors.dropna(inplace=True)\n",
    "# change zipcode type to int\n",
    "donors['zipcode'] = donors['zipcode'].astype(int)\n",
    "# change gender to 1(Female) or 0(Male), not sure why I'm doing this now, but it's fine, just move along\n",
    "donors['gender'].replace(to_replace={'F':1,'M':0}, inplace=True)\n",
    "# There seems to be a small error in the 'province' column, where Antwerp is in All-caps\n",
    "donors['province'].replace(to_replace={'ANTWERP':'Antwerp'}, inplace=True)\n",
    "\n",
    "# - Campaign cleaning\n",
    "\n",
    "# replacing the euro string to a float\n",
    "campaigns.CostUnit = campaigns.CostUnit.str.slice(start=0, stop=-1)\n",
    "campaigns.CostUnit = campaigns.CostUnit.str.replace(\",\" , \".\")\n",
    "campaigns.CostUnit = campaigns.CostUnit.astype(float)\n",
    "\n",
    "campaigns.lettersSent = campaigns.lettersSent.astype(str)\n",
    "campaigns.lettersSent = campaigns.lettersSent.str.replace(\"\\u202f\", \"\")\n",
    "campaigns.lettersSent = campaigns.lettersSent.astype(int)\n",
    "\n",
    "campaigns[\"Totalcost\"] = campaigns.lettersSent * campaigns.CostUnit\n",
    "\n",
    "campaigns['date'] = pd.to_datetime(campaigns['date'],yearfirst=True)"
   ]
  },
  {
   "cell_type": "code",
   "execution_count": 4,
   "metadata": {
    "scrolled": false
   },
   "outputs": [
    {
     "name": "stdout",
     "output_type": "stream",
     "text": [
      "Current campaign date:  2020-01-06 00:00:00\n",
      "<class 'pandas.core.frame.DataFrame'>\n",
      "Int64Index: 26522 entries, 0 to 26521\n",
      "Data columns (total 2 columns):\n",
      " #   Column   Non-Null Count  Dtype  \n",
      "---  ------   --------------  -----  \n",
      " 0   amount   26522 non-null  float64\n",
      " 1   donorID  26522 non-null  int64  \n",
      "dtypes: float64(1), int64(1)\n",
      "memory usage: 621.6 KB\n",
      "None\n"
     ]
    },
    {
     "name": "stderr",
     "output_type": "stream",
     "text": [
      "/home/seppe/anaconda3/envs/fundraising/lib/python3.8/site-packages/pandas/core/frame.py:4162: SettingWithCopyWarning: \n",
      "A value is trying to be set on a copy of a slice from a DataFrame\n",
      "\n",
      "See the caveats in the documentation: https://pandas.pydata.org/pandas-docs/stable/user_guide/indexing.html#returning-a-view-versus-a-copy\n",
      "  return super().drop(\n"
     ]
    }
   ],
   "source": [
    "### REMOVING DATA LATER THAN a GIVEN CAMPAIGN\n",
    "\n",
    "curr_camp = 7662\n",
    "\n",
    "# because the date of this campaign isn't known, but it is later than all other campaigns, we can just set  01/06/2020 as the date\n",
    "campaign_date = pd.to_datetime('01/06/2020')\n",
    "\n",
    "# Otherwise:\n",
    "# campaign_date = campaigns.loc[campaigns['campaignID'] == curr_camp].date.values[0]\n",
    "\n",
    "print(\"Current campaign date: \",campaign_date)\n",
    "\n",
    "# Making the target dataframe\n",
    "target = gifts.loc[gifts['campaignID'] == curr_camp]\n",
    "target.drop(columns=['campaignID','date'], inplace=True)\n",
    "target = pd.merge(left=target, right=campaign7662, on='donorID', how='right')\n",
    "target = target.fillna(value=0.0, axis=1)\n",
    "print(target.info())\n",
    "\n",
    "# drop all later dates\n",
    "campaign_ind = list(campaigns.loc[campaigns['date']>=campaign_date].index)\n",
    "campaigns.drop(index=campaign_ind, inplace=True)\n",
    "\n",
    "gift_ind = list(gifts.loc[gifts['date']>=campaign_date].index)\n",
    "gifts.drop(index=gift_ind, inplace=True)\n",
    "# Now I get a warning instead of an error, so that's nice, I think"
   ]
  },
  {
   "cell_type": "code",
   "execution_count": 5,
   "metadata": {
    "ExecuteTime": {
     "end_time": "2020-09-09T10:37:24.234863Z",
     "start_time": "2020-09-09T10:37:23.950223Z"
    },
    "scrolled": true
   },
   "outputs": [
    {
     "data": {
      "text/plain": [
       "donorID\n",
       "123168    4000030.00\n",
       "120861    2479000.00\n",
       "122679      30120.00\n",
       "105960      13830.37\n",
       "109635      13718.40\n",
       "             ...    \n",
       "130081          5.00\n",
       "142520          5.00\n",
       "138583          5.00\n",
       "142527          5.00\n",
       "138143          5.00\n",
       "Name: amount, Length: 44652, dtype: float64"
      ]
     },
     "metadata": {},
     "output_type": "display_data"
    }
   ],
   "source": [
    "### MERGING ALL DATAFRAMES\n",
    "# cautionary warning; messy naming scheme ahead\n",
    "\n",
    "# Merging donors and gifts to make funds\n",
    "df_fund = pd.merge(left=donors, \n",
    "                    right=gifts, \n",
    "                    how='inner',\n",
    "                    on='donorID')\n",
    "\n",
    "# Merging funds with campaign data\n",
    "df_fund = pd.merge(left=df_fund, right=campaigns, on='campaignID', how='left')\n",
    "df_fund['date donated']=df_fund['date_x']\n",
    "df_fund['start of campaign']=pd.to_datetime(df_fund['date_y'],yearfirst=True)\n",
    "df_fund.drop(['date_x','date_y'], axis=1, inplace=True)\n",
    "\n",
    "# check which donors donated the nost during different campaigns combined\n",
    "display(df_fund.groupby('donorID')['amount'].sum().sort_values(ascending=False))\n",
    "# there seems to be one donor who really sticks out, let's check some more info about this donor\n",
    "df_fund[df_fund['donorID']==120861]\n",
    "# because this is such a significant outlier, it probably won't be representative for the rest of the population\n",
    "# so it could improve results if we drop this outlier <citation needed>\n",
    "df_fund.drop(df_fund.loc[df_fund['amount']>2000000].index, inplace=True)"
   ]
  },
  {
   "cell_type": "code",
   "execution_count": 6,
   "metadata": {
    "ExecuteTime": {
     "end_time": "2020-09-09T10:37:24.304630Z",
     "start_time": "2020-09-09T10:37:24.236217Z"
    },
    "scrolled": false
   },
   "outputs": [],
   "source": [
    "### ADDITIONAL FEATURES\n",
    "\n",
    "# Population data of municipality (total pop & pop density)\n",
    "# Frequency of donations (float: times/month)\n",
    "# Time since last donation (float: num. of months ago)\n",
    "# Average donation amount (float)\n",
    "# Donates outside of campaigns (bool)\n",
    "# Total campaigns contributed (int)\n",
    "# donors/thousand inhabatants of municapality (float)\n",
    "# Whether someone already reached their fiscal amount ---- TODO ----\n",
    "# --> [https://www.vlaanderen.be/geld-en-goederen-schenken]\n",
    "\n",
    "# Oh and I've got a great idea, what if I use the most inconsistent naming scheme ever?\n",
    "# 50/50 chance of using an underscore etc.\n",
    "# Surely this will be an amazing way to confuse my future self \n",
    "\n",
    "# 1) Add a location density column to the donor df, to find if the donor lives in a rural area or a city\n",
    "postal_codes = pd.merge(left=pop_den, right=be_codes, how='inner', \n",
    "                        left_on='Refnis', right_on='municipality_nis_code')\n",
    "postal_codes.drop(columns=['Refnis', \n",
    "                           'Municipality FR', \n",
    "                           'Size in km²', \n",
    "                           'region_nuts_code', \n",
    "                           'region_nis_code', \n",
    "                           'region_label_nl',\n",
    "                           'province_nuts_code',\n",
    "                           'province_nis_code',\n",
    "                           'province_label_nl',\n",
    "                           'arrondissement_nuts_code',\n",
    "                           'arrondissement_nis_code',\n",
    "                           'arrondissement_label_nl',\n",
    "                           'municipality_nis_code',\n",
    "                           'municipality_nis_label_nl',\n",
    "                           'municipality_label_nl'], inplace=True)\n",
    "postal_codes.drop_duplicates()\n",
    "# Merging donors and postal codes\n",
    "df_fund = pd.merge(left=df_fund,\n",
    "                    right=postal_codes,\n",
    "                    how='left',\n",
    "                    left_on='zipcode',\n",
    "                    right_on='postcode')\n",
    "df_fund.drop(columns='postcode', inplace=True)\n",
    "\n",
    "\n",
    "# Constructing a dictionary to keep key statistics, for .. some reason pobably?\n",
    "arr = df_fund[['donorID', 'date donated']].to_numpy()\n",
    "freq_dict = {}\n",
    "for don in arr:\n",
    "    if don[0] in freq_dict.keys(): \n",
    "        curr = freq_dict[don[0]]\n",
    "        freq_dict[don[0]] = [curr[0]+1, min(curr[1], don[1]), max(curr[1], don[1])]\n",
    "    else:\n",
    "        freq_dict[don[0]] = [1, don[1], don[1]]\n",
    "\n",
    "column_names={'index': 'donorID', 0:'donations', 1:'first', 2:'last'}\n",
    "freq_df = pd.DataFrame.from_dict(freq_dict, orient='index')\n",
    "freq_df.reset_index(drop=False, inplace=True)\n",
    "freq_df.rename(mapper=column_names, inplace=True, axis='columns')\n",
    "\n",
    "freq_df['months as donor'] = freq_df['last'] - freq_df['first']\n",
    "freq_df['months as donor'] = freq_df['months as donor'].astype('timedelta64[M]')\n",
    "freq_df['frequency'] = freq_df['donations']/freq_df['months as donor']\n",
    "freq_df['frequency'].replace(to_replace=float('inf'), value=0.0, inplace=True)\n",
    "freq_df.drop(['first','last'], axis=1, inplace=True)\n",
    "df_fund = pd.merge(left=df_fund, right=freq_df, on='donorID')\n",
    "\n",
    "# This is stupid, but it works, so is it really stupid?\n",
    "recency = df_fund.groupby('donorID')[['date donated']].aggregate(func=max)\n",
    "recency.rename(mapper={'date donated':'months since gift'}, inplace=True, axis='columns')\n",
    "recency = recency.apply(lambda x: campaign_date - x)\n",
    "df_fund = pd.merge(left=df_fund, right=recency, left_on='donorID', right_index=True)\n",
    "df_fund['months since gift'] = df_fund['months since gift'].astype('timedelta64[M]')\n",
    "\n",
    "averages = df_fund.groupby('donorID').amount.mean()\n",
    "df_fund = pd.merge(left=df_fund, right=averages, left_on='donorID', right_index=True)\n",
    "df_fund.rename(mapper={'amount_x':'amount', 'amount_y':'avg donation'}, inplace=True, axis='columns')\n",
    "\n",
    "# If I have to use one more groupby() I will actually lose my last remaining braincells\n",
    "outsidecampaigns = df_fund.groupby('donorID')[['campaignID']].aggregate(func=min)\n",
    "outsidecampaigns['campaignID'] = [1 if x==0 else 0 for x in outsidecampaigns['campaignID']]\n",
    "outsidecampaigns.rename(mapper={'campaignID':'donates outside campaign'}, inplace=True, axis='columns')\n",
    "df_fund = pd.merge(left=df_fund, right=outsidecampaigns, left_on='donorID', right_index=True)\n",
    "\n",
    "# And some more arts and crafts to keep this messy ship afloat\n",
    "localdonors = df_fund.groupby('zipcode')[['donorID']].nunique()\n",
    "localdonors.rename(mapper={'donorID':'local donors'}, inplace=True, axis='columns')\n",
    "df_fund = pd.merge(left=df_fund, right=localdonors, left_on='zipcode', right_index=True)\n",
    "\n",
    "df_fund['Population'].fillna(value=df_fund['Population'].median(), inplace=True)\n",
    "df_fund['Population / km²'].fillna(value=df_fund['Population / km²'].median(), inplace=True)\n",
    "df_fund['donors/1000 in area'] = df_fund['local donors']/df_fund['Population']*1000\n"
   ]
  },
  {
   "cell_type": "code",
   "execution_count": 7,
   "metadata": {
    "ExecuteTime": {
     "end_time": "2020-09-09T10:37:24.323477Z",
     "start_time": "2020-09-09T10:37:24.305638Z"
    }
   },
   "outputs": [],
   "source": [
    "### CREATING A SMALLER FEATURES DATASET\n",
    "\n",
    "df_fund = pd.concat([df_fund,pd.get_dummies(df_fund['region'], prefix='region')],axis=1)\n",
    "df_fund = pd.concat([df_fund,pd.get_dummies(df_fund['province'], prefix='province')],axis=1)\n",
    "df_fund = pd.concat([df_fund,pd.get_dummies(df_fund['language'], prefix='lang')],axis=1)\n",
    "df_fund.drop(['region','province','language'],axis=1, inplace=True)\n",
    "\n",
    "# 'Let me freak the funk, obsolete is the punk' ~ Drop, Pharcyde, 1995\n",
    "features = df_fund.drop(['zipcode',\n",
    "              'dateOfBirth',\n",
    "              'Municipality NL',\n",
    "              'Population',\n",
    "              'campaignID',\n",
    "              'amount', \n",
    "              'lettersSent', \n",
    "              'CostUnit', \n",
    "              'Totalcost', \n",
    "              'date donated', \n",
    "              'start of campaign', \n",
    "              'local donors'], axis=1)\n",
    "\n",
    "features.drop_duplicates(inplace=True, ignore_index=True)"
   ]
  },
  {
   "cell_type": "code",
   "execution_count": 8,
   "metadata": {
    "scrolled": false
   },
   "outputs": [
    {
     "name": "stdout",
     "output_type": "stream",
     "text": [
      "<class 'pandas.core.frame.DataFrame'>\n",
      "RangeIndex: 44651 entries, 0 to 44650\n",
      "Data columns (total 28 columns):\n",
      " #   Column                    Non-Null Count  Dtype  \n",
      "---  ------                    --------------  -----  \n",
      " 0   donorID                   44651 non-null  int64  \n",
      " 1   gender                    44651 non-null  int64  \n",
      " 2   year                      44651 non-null  int64  \n",
      " 3   Population / km²          44651 non-null  float64\n",
      " 4   donations                 44651 non-null  int64  \n",
      " 5   months as donor           44651 non-null  float64\n",
      " 6   frequency                 44651 non-null  float64\n",
      " 7   months since gift         44651 non-null  float64\n",
      " 8   avg donation              44651 non-null  float64\n",
      " 9   donates outside campaign  44651 non-null  int64  \n",
      " 10  donors/1000 in area       44651 non-null  float64\n",
      " 11  region_Brussels           44651 non-null  uint8  \n",
      " 12  region_Flanders           44651 non-null  uint8  \n",
      " 13  region_Wallonia           44651 non-null  uint8  \n",
      " 14  province_Antwerp          44651 non-null  uint8  \n",
      " 15  province_Brussels         44651 non-null  uint8  \n",
      " 16  province_East Flanders    44651 non-null  uint8  \n",
      " 17  province_Flemish Brabant  44651 non-null  uint8  \n",
      " 18  province_Hainaut          44651 non-null  uint8  \n",
      " 19  province_Liege            44651 non-null  uint8  \n",
      " 20  province_Limburg          44651 non-null  uint8  \n",
      " 21  province_Luxembourg       44651 non-null  uint8  \n",
      " 22  province_Namur            44651 non-null  uint8  \n",
      " 23  province_Walloon Brabant  44651 non-null  uint8  \n",
      " 24  province_West Flanders    44651 non-null  uint8  \n",
      " 25  lang_EN                   44651 non-null  uint8  \n",
      " 26  lang_FR                   44651 non-null  uint8  \n",
      " 27  lang_NL                   44651 non-null  uint8  \n",
      "dtypes: float64(6), int64(5), uint8(17)\n",
      "memory usage: 4.5 MB\n",
      "None\n",
      "   donorID  gender  year  Population / km²  donations  months as donor  \\\n",
      "0   100001       1  1967        553.506571         12             93.0   \n",
      "1   103926       0  1981        553.506571          2             15.0   \n",
      "2   104110       0  1976        553.506571          8            105.0   \n",
      "3   104272       0  1985        553.506571         12            100.0   \n",
      "4   105577       0  1975        553.506571          1              0.0   \n",
      "5   105665       0  1957        553.506571          1              0.0   \n",
      "6   108172       1  1953        553.506571          2             11.0   \n",
      "7   108570       0  1973        553.506571          1              0.0   \n",
      "8   111043       0  1949        553.506571         12            156.0   \n",
      "9   111199       0  1975        553.506571          3             27.0   \n",
      "\n",
      "   frequency  months since gift  avg donation  donates outside campaign  ...  \\\n",
      "0   0.129032               96.0     14.874167                         1  ...   \n",
      "1   0.133333              107.0     32.500000                         1  ...   \n",
      "2   0.076190               67.0     18.468750                         1  ...   \n",
      "3   0.120000               58.0     12.472500                         0  ...   \n",
      "4   0.000000               99.0     30.000000                         0  ...   \n",
      "5   0.000000              165.0     27.270000                         0  ...   \n",
      "6   0.181818              153.0      7.440000                         0  ...   \n",
      "7   0.000000              165.0     14.870000                         0  ...   \n",
      "8   0.076923                0.0     29.224167                         0  ...   \n",
      "9   0.111111              106.0     28.263333                         0  ...   \n",
      "\n",
      "   province_Hainaut  province_Liege  province_Limburg  province_Luxembourg  \\\n",
      "0                 0               0                 0                    0   \n",
      "1                 0               0                 0                    0   \n",
      "2                 0               0                 0                    0   \n",
      "3                 0               0                 0                    0   \n",
      "4                 0               0                 0                    0   \n",
      "5                 0               0                 0                    0   \n",
      "6                 0               0                 0                    0   \n",
      "7                 0               0                 0                    0   \n",
      "8                 0               0                 0                    0   \n",
      "9                 0               0                 0                    0   \n",
      "\n",
      "   province_Namur  province_Walloon Brabant  province_West Flanders  lang_EN  \\\n",
      "0               0                         0                       0        0   \n",
      "1               0                         0                       0        0   \n",
      "2               0                         0                       0        0   \n",
      "3               0                         0                       0        0   \n",
      "4               0                         0                       0        0   \n",
      "5               0                         0                       0        0   \n",
      "6               0                         0                       0        0   \n",
      "7               0                         0                       0        0   \n",
      "8               0                         0                       0        0   \n",
      "9               0                         0                       0        0   \n",
      "\n",
      "   lang_FR  lang_NL  \n",
      "0        0        1  \n",
      "1        0        1  \n",
      "2        0        1  \n",
      "3        0        1  \n",
      "4        0        1  \n",
      "5        0        1  \n",
      "6        0        1  \n",
      "7        0        1  \n",
      "8        0        1  \n",
      "9        0        1  \n",
      "\n",
      "[10 rows x 28 columns]\n",
      "<class 'pandas.core.frame.DataFrame'>\n",
      "Int64Index: 26522 entries, 0 to 26521\n",
      "Data columns (total 2 columns):\n",
      " #   Column   Non-Null Count  Dtype  \n",
      "---  ------   --------------  -----  \n",
      " 0   amount   26522 non-null  float64\n",
      " 1   donorID  26522 non-null  int64  \n",
      "dtypes: float64(1), int64(1)\n",
      "memory usage: 621.6 KB\n",
      "None\n",
      "   amount  donorID\n",
      "0     0.0   134242\n",
      "1     0.0   126503\n",
      "2     0.0   104392\n",
      "3     0.0   105905\n",
      "4     0.0   120506\n",
      "5     0.0   128540\n",
      "6     0.0   126159\n",
      "7     0.0   141462\n",
      "8     0.0   140682\n",
      "9     0.0   133551\n"
     ]
    }
   ],
   "source": [
    "# target_don_list = list(target['donorID'])\n",
    "# feat_don_list = list(features['donorID'])\n",
    "# bad_donors = []\n",
    "# for t in target_don_list:\n",
    "#     if t not in feat_don_list:\n",
    "#         bad_donors.append(t)\n",
    "# print(len(bad_donors), \" donors who are not recognized\")\n",
    "\n",
    "# If you don't get what's happening here, don't worry, neither do I\n",
    "# features = pd.merge(left=target, right=features, on='donorID', how='left')\n",
    "# features.drop(columns='amount', inplace=True)\n",
    "# features.set_index('donorID', drop=True, inplace=True)\n",
    "# target.set_index('donorID', drop=True, inplace=True)\n",
    "\n",
    "# features.drop(index=bad_donors, inplace=True)\n",
    "# target.drop(index=bad_donors, inplace=True)\n",
    "\n",
    "print(features.info())\n",
    "print(features.head(10))\n",
    "print(target.info())\n",
    "print(target.head(10))"
   ]
  },
  {
   "cell_type": "code",
   "execution_count": 9,
   "metadata": {
    "ExecuteTime": {
     "end_time": "2020-09-09T10:37:24.390885Z",
     "start_time": "2020-09-09T10:37:24.325143Z"
    }
   },
   "outputs": [],
   "source": [
    "### STORING THE DATASETS\n",
    "\n",
    "# target.to_csv(\"target\"+str(curr_camp)+\".csv\")\n",
    "features.to_csv(\"features\"+str(curr_camp)+\".csv\")\n",
    "df_fund.to_csv(ext_data_path+\"/df_fund\"+str(curr_camp)+\".csv\")"
   ]
  },
  {
   "cell_type": "markdown",
   "metadata": {},
   "source": [
    "How frequently a candidate donor makes donations?\n",
    "\n",
    "When was the last time a candidate donors made a donation?\n",
    "\n",
    "What is the average donation amount of a candidate donors?\n",
    "\n",
    "Is a candidate donors making donation during reactivation campaign, or spontaneously?\n",
    "\n",
    "You can look at this variable over the short term (last months), long term (last years) and/or\n",
    "lifetime."
   ]
  },
  {
   "cell_type": "code",
   "execution_count": 18,
   "metadata": {},
   "outputs": [],
   "source": [
    "features['Region']=(features['region_Brussels']*1)+(features['region_Flanders']*2)+(features['region_Wallonia']*3)"
   ]
  },
  {
   "cell_type": "code",
   "execution_count": 38,
   "metadata": {},
   "outputs": [
    {
     "data": {
      "text/plain": [
       "Region\n",
       "1     137\n",
       "2    5523\n",
       "3     144\n",
       "Name: donates outside campaign, dtype: int64"
      ]
     },
     "execution_count": 38,
     "metadata": {},
     "output_type": "execute_result"
    }
   ],
   "source": [
    "features.groupby('Region')['donates outside campaign'].sum()"
   ]
  },
  {
   "cell_type": "code",
   "execution_count": 34,
   "metadata": {},
   "outputs": [
    {
     "data": {
      "image/png": "[encoded data removed]",
      "text/plain": [
       "<Figure size 1080x360 with 3 Axes>"
      ]
     },
     "metadata": {},
     "output_type": "display_data"
    }
   ],
   "source": [
    "sns.set_theme(context=\"notebook\", style='whitegrid')\n",
    "sns.displot(data=features, x='frequency', bins=5, col='Region',hue='Region', kde=True, legend=False)\n",
    "\n",
    "plt.show()"
   ]
  },
  {
   "cell_type": "code",
   "execution_count": 28,
   "metadata": {},
   "outputs": [
    {
     "data": {
      "image/png": "[encoded data removed]",
      "text/plain": [
       "<Figure size 1129.8x360 with 3 Axes>"
      ]
     },
     "metadata": {},
     "output_type": "display_data"
    }
   ],
   "source": [
    "sns.displot(data=features, x='year', bins=20, col='Region',hue='Region', kde=True)\n",
    "plt.show()"
   ]
  },
  {
   "cell_type": "code",
   "execution_count": null,
   "metadata": {},
   "outputs": [],
   "source": []
  }
 ],
 "metadata": {
  "kernelspec": {
   "display_name": "Python 3",
   "language": "python",
   "name": "python3"
  },
  "language_info": {
   "codemirror_mode": {
    "name": "ipython",
    "version": 3
   },
   "file_extension": ".py",
   "mimetype": "text/x-python",
   "name": "python",
   "nbconvert_exporter": "python",
   "pygments_lexer": "ipython3",
   "version": "3.8.5"
  }
 },
 "nbformat": 4,
 "nbformat_minor": 2
}
